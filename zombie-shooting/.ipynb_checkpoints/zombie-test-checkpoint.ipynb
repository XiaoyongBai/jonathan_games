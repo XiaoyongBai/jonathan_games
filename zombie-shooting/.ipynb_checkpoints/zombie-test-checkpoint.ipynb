{
 "cells": [
  {
   "cell_type": "code",
   "execution_count": 1,
   "id": "150ab206",
   "metadata": {},
   "outputs": [
    {
     "name": "stdout",
     "output_type": "stream",
     "text": [
      "pygame 2.6.1 (SDL 2.28.4, Python 3.10.9)\n",
      "Hello from the pygame community. https://www.pygame.org/contribute.html\n"
     ]
    }
   ],
   "source": [
    "import pygame\n",
    "import os\n",
    "\n",
    "import random\n"
   ]
  },
  {
   "cell_type": "code",
   "execution_count": 2,
   "id": "d34b7fdb",
   "metadata": {},
   "outputs": [],
   "source": [
    "# Set screen dimensions\n",
    "SCREEN_WIDTH, SCREEN_HEIGHT = 800, 600"
   ]
  },
  {
   "cell_type": "code",
   "execution_count": 3,
   "id": "5a8dff35",
   "metadata": {},
   "outputs": [],
   "source": [
    "import matplotlib.pyplot as plt\n",
    "import numpy as np\n",
    "\n",
    "# Assuming you have a Pygame Surface called self.image\n",
    "def plot_pygame_image(surface):\n",
    "    \"\"\" Plot a Pygame Surface using Matplotlib \"\"\"\n",
    "    # Convert the surface to a NumPy array (shape will be (width, height, 3))\n",
    "    array = pygame.surfarray.array3d(surface)\n",
    "    \n",
    "    # Transpose the array axes because Pygame and Matplotlib have different default orientations\n",
    "    array = np.transpose(array, (1, 0, 2))\n",
    "    \n",
    "    # Plot using Matplotlib\n",
    "    plt.imshow(array)\n",
    "    plt.axis('off')  # Hide axis\n",
    "    plt.show()\n",
    "\n",
    "    \n",
    "# Zombie class\n",
    "class Zombie(pygame.sprite.Sprite):\n",
    "    def __init__(self, x, y, gender='male'):\n",
    "        super().__init__()\n",
    "        self.gender = gender\n",
    "        \n",
    "        self.frames = self.load_zombie_frames(gender)\n",
    "        self.current_frame = 0\n",
    "        self.image = self.frames[self.current_frame]\n",
    "        self.rect = self.image.get_rect()\n",
    "        self.rect.topleft = (x, y)\n",
    "        self.animation_speed = 1  # Adjust for faster/slower walking animation\n",
    "        self.frame_counter = 0\n",
    "        \n",
    "        self.speed_x = 0\n",
    "        self.speed_y = 0\n",
    "        \n",
    "         \n",
    "    # Load zombie images\n",
    "    # Assuming you have a folder named \"assets\" containing multiple images (frames) named like \"zombie1.png\", \"zombie2.png\", etc.\n",
    "    def load_zombie_frames(self, gender):\n",
    "        frames = []\n",
    "        for i in range(1, 11):  # Adjust the range based on the number of frames\n",
    "            frame = pygame.image.load(os.path.join('zombie_files', gender, f'Walk ({i}).png'))\n",
    "            frames.append(pygame.transform.scale(frame, (64, 128)))  # Resize if necessary\n",
    "        return frames\n",
    "    \n",
    "    \n",
    "    def random_speed(self): \n",
    "        self.speed_x = 0 * random.randint(-3, 3)\n",
    "        self.speed_y = 0 * random.randint(-3, 3)\n",
    "        \n",
    "        \n",
    "    def update(self):\n",
    "        \n",
    "        print(\"update\")\n",
    "        \n",
    "        # speed logic\n",
    "        if self.frame_counter >= len(self.frames):\n",
    "            self.random_speed()\n",
    "        \n",
    "        # Animation logic\n",
    "        self.frame_counter += self.animation_speed\n",
    "        if self.frame_counter >= len(self.frames):\n",
    "            self.frame_counter = 0\n",
    "        self.current_frame = int(self.frame_counter)\n",
    "        \n",
    "        self.image = self.frames[self.current_frame]\n",
    "        \n",
    "#         plot_pygame_image(self.image)\n",
    "        \n",
    "#         if self.speed_x>=0:\n",
    "#             self.image = image\n",
    "#         else:\n",
    "#             self.image = pygame.transform.flip(image, True, False)\n",
    "        \n",
    "        # Movement logic\n",
    "#         self.rect.x += self.speed_x  # Move zombie in x-direction\n",
    "#         self.rect.y += self.speed_y  # Move zombie in y-direction\n",
    "        \n",
    "        # Keep zombie on screen\n",
    "        if self.rect.left < 0 or self.rect.right > SCREEN_WIDTH:\n",
    "            self.speed_x *= -1\n",
    "        if self.rect.top < 0 or self.rect.bottom > SCREEN_HEIGHT:\n",
    "            self.speed_y *= -1\n",
    "        \n",
    "        self.rect.x -= 2 \n",
    "        \n",
    "#         print(self.rect, self.speed_x, self.speed_y, self.current_frame)\n",
    "        "
   ]
  },
  {
   "cell_type": "code",
   "execution_count": 4,
   "id": "c000cbcd",
   "metadata": {},
   "outputs": [
    {
     "name": "stdout",
     "output_type": "stream",
     "text": [
      "update\n",
      "update\n",
      "update\n"
     ]
    },
    {
     "ename": "KeyboardInterrupt",
     "evalue": "",
     "output_type": "error",
     "traceback": [
      "\u001b[0;31m---------------------------------------------------------------------------\u001b[0m",
      "\u001b[0;31mKeyboardInterrupt\u001b[0m                         Traceback (most recent call last)",
      "Cell \u001b[0;32mIn[4], line 44\u001b[0m\n\u001b[1;32m     41\u001b[0m     pygame\u001b[38;5;241m.\u001b[39mquit()\n\u001b[1;32m     43\u001b[0m \u001b[38;5;28;01mif\u001b[39;00m \u001b[38;5;18m__name__\u001b[39m \u001b[38;5;241m==\u001b[39m \u001b[38;5;124m\"\u001b[39m\u001b[38;5;124m__main__\u001b[39m\u001b[38;5;124m\"\u001b[39m:\n\u001b[0;32m---> 44\u001b[0m     \u001b[43mmain\u001b[49m\u001b[43m(\u001b[49m\u001b[43m)\u001b[49m\n",
      "Cell \u001b[0;32mIn[4], line 39\u001b[0m, in \u001b[0;36mmain\u001b[0;34m()\u001b[0m\n\u001b[1;32m     36\u001b[0m     pygame\u001b[38;5;241m.\u001b[39mdisplay\u001b[38;5;241m.\u001b[39mflip()\n\u001b[1;32m     38\u001b[0m     \u001b[38;5;66;03m# Frame rate\u001b[39;00m\n\u001b[0;32m---> 39\u001b[0m     \u001b[43mclock\u001b[49m\u001b[38;5;241;43m.\u001b[39;49m\u001b[43mtick\u001b[49m\u001b[43m(\u001b[49m\u001b[38;5;241;43m0.1\u001b[39;49m\u001b[43m)\u001b[49m\n\u001b[1;32m     41\u001b[0m pygame\u001b[38;5;241m.\u001b[39mquit()\n",
      "\u001b[0;31mKeyboardInterrupt\u001b[0m: "
     ]
    }
   ],
   "source": [
    "# Initialize Pygame\n",
    "pygame.init()\n",
    "\n",
    "screen = pygame.display.set_mode((SCREEN_WIDTH, SCREEN_HEIGHT))\n",
    "pygame.display.set_caption(\"Walking Zombie\")\n",
    "\n",
    "# Define Colors\n",
    "BLACK = (0, 0, 0)\n",
    "\n",
    "# Game loop\n",
    "def main():\n",
    "    clock = pygame.time.Clock()\n",
    "    zombie_group = pygame.sprite.Group()\n",
    "\n",
    "    # Create a zombie instance and add to group\n",
    "    zombie = Zombie(SCREEN_WIDTH, SCREEN_HEIGHT - 128, 'male')  # Spawn position\n",
    "    zombie_group.add(zombie)\n",
    "\n",
    "    running = True\n",
    "    while running:\n",
    "        for event in pygame.event.get():\n",
    "            if event.type == pygame.QUIT:\n",
    "                running = False\n",
    "\n",
    "        # Update zombie\n",
    "        zombie_group.update()\n",
    "\n",
    "        # Clear the screen\n",
    "        screen.fill(BLACK)\n",
    "\n",
    "        # Draw zombie\n",
    "        zombie_group.draw(screen)\n",
    "\n",
    "        # Refresh the display\n",
    "        pygame.display.flip()\n",
    "\n",
    "        # Frame rate\n",
    "        clock.tick(0.1)\n",
    "\n",
    "    pygame.quit()\n",
    "\n",
    "if __name__ == \"__main__\":\n",
    "    main()"
   ]
  },
  {
   "cell_type": "code",
   "execution_count": null,
   "id": "cadc6154",
   "metadata": {},
   "outputs": [],
   "source": [
    "random.randint(-2, 1)"
   ]
  },
  {
   "cell_type": "code",
   "execution_count": null,
   "id": "74f43557",
   "metadata": {},
   "outputs": [],
   "source": []
  }
 ],
 "metadata": {
  "kernelspec": {
   "display_name": "Python 3 (ipykernel)",
   "language": "python",
   "name": "python3"
  },
  "language_info": {
   "codemirror_mode": {
    "name": "ipython",
    "version": 3
   },
   "file_extension": ".py",
   "mimetype": "text/x-python",
   "name": "python",
   "nbconvert_exporter": "python",
   "pygments_lexer": "ipython3",
   "version": "3.10.9"
  }
 },
 "nbformat": 4,
 "nbformat_minor": 5
}
