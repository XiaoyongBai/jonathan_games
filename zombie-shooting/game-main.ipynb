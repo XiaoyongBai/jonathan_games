{
 "cells": [
  {
   "cell_type": "code",
   "execution_count": 1,
   "id": "5ae75441",
   "metadata": {},
   "outputs": [
    {
     "name": "stdout",
     "output_type": "stream",
     "text": [
      "pygame 2.6.1 (SDL 2.28.4, Python 3.10.9)\n",
      "Hello from the pygame community. https://www.pygame.org/contribute.html\n"
     ]
    }
   ],
   "source": [
    "import pygame\n",
    "import random"
   ]
  },
  {
   "cell_type": "code",
   "execution_count": 2,
   "id": "f73c9639",
   "metadata": {},
   "outputs": [],
   "source": [
    "pygame.init()\n",
    "screen = pygame.display.set_mode((800, 600))  # Window size\n",
    "pygame.display.set_caption(\"Zombie Shooter\")"
   ]
  },
  {
   "cell_type": "code",
   "execution_count": 3,
   "id": "927ef00e",
   "metadata": {},
   "outputs": [],
   "source": [
    "gun_img = pygame.image.load(\"shotgun.png\")  # Load an image for the gun\n",
    "gun_img = pygame.transform.scale(gun_img, (64, 64))\n",
    "gun_x, gun_y = 370, 480  # Starting position\n",
    "\n",
    "def draw_gun(x, y):\n",
    "    screen.blit(gun_img, (x, y))\n",
    "  \n",
    "\n",
    "def display_text(text, x, y):\n",
    "    font = pygame.font.Font(None, 36)  # Default font, size 36\n",
    "    rendered_text = font.render(text, True, (255, 255, 255))  # White color text\n",
    "    screen.blit(rendered_text, (x, y))"
   ]
  },
  {
   "cell_type": "code",
   "execution_count": 4,
   "id": "c8bcfd04",
   "metadata": {},
   "outputs": [],
   "source": [
    "zombie_img = pygame.image.load(\"zombie.png\")\n",
    "zombie_img = pygame.transform.scale(zombie_img, (64, 64))\n",
    "zombie_x = random.randint(0, 735)\n",
    "zombie_y = random.randint(50, 150)\n",
    "zombie_speed = 0.1\n",
    "\n",
    "def draw_zombie(x, y):\n",
    "    screen.blit(zombie_img, (x, y))\n",
    "\n",
    "def move_zombie():\n",
    "    global zombie_x, zombie_y, zombie_speed\n",
    "    zombie_x += zombie_speed\n",
    "    if zombie_x <= 0 or zombie_x >= 735:\n",
    "        zombie_speed *= -1\n",
    "        zombie_y += zombie_speed"
   ]
  },
  {
   "cell_type": "code",
   "execution_count": 5,
   "id": "9d6f3594",
   "metadata": {},
   "outputs": [],
   "source": [
    "bullet_img = pygame.image.load(\"bullet.png\")\n",
    "bullet_img = pygame.transform.scale(bullet_img, (16, 16))\n",
    "\n",
    "bullet_x, bullet_y = 0, 480\n",
    "bullet_speed = 5\n",
    "bullet_fired = False\n",
    "\n",
    "def fire_bullet(x, y):\n",
    "    global bullet_fired\n",
    "    bullet_fired = True\n",
    "    screen.blit(bullet_img, (x + 16, y + 10))\n",
    "\n",
    "def move_bullet():\n",
    "    global bullet_y, bullet_fired, bullet_speed\n",
    "    if bullet_fired:\n",
    "        bullet_y -= bullet_speed\n",
    "    if bullet_y < 0:\n",
    "        bullet_y = 480\n",
    "        bullet_fired = False"
   ]
  },
  {
   "cell_type": "code",
   "execution_count": 6,
   "id": "400fc4ed",
   "metadata": {},
   "outputs": [],
   "source": [
    "def is_collision(zombie_x, zombie_y, bullet_x, bullet_y):\n",
    "    distance = ((zombie_x - bullet_x)**2 + (zombie_y - bullet_y)**2)**0.5\n",
    "    return distance < 27"
   ]
  },
  {
   "cell_type": "code",
   "execution_count": null,
   "id": "46741291",
   "metadata": {},
   "outputs": [],
   "source": [
    "running = True\n",
    "gun_speed = 5\n",
    "while running:\n",
    "    screen.fill((0, 0, 0))  # Background color\n",
    "\n",
    "    for event in pygame.event.get():\n",
    "        if event.type == pygame.QUIT:\n",
    "            running = False\n",
    "\n",
    "        # Control gun movement\n",
    "        if event.type == pygame.KEYDOWN:\n",
    "            if event.key == pygame.K_LEFT:\n",
    "                gun_x -= 5 * gun_speed\n",
    "            if event.key == pygame.K_RIGHT:\n",
    "                gun_x += 5 * gun_speed\n",
    "            if event.key == pygame.K_SPACE and not bullet_fired:\n",
    "                bullet_x = gun_x\n",
    "                fire_bullet(bullet_x, bullet_y)\n",
    "\n",
    "    move_bullet()\n",
    "    move_zombie()\n",
    "\n",
    "    # Check for collision\n",
    "    if is_collision(zombie_x, zombie_y, bullet_x, bullet_y):\n",
    "        zombie_x = random.randint(0, 735)\n",
    "        zombie_y = random.randint(50, 150)\n",
    "        bullet_y = 480\n",
    "        bullet_fired = False\n",
    "        \n",
    "        display_text(\"You killed a zombie!\", 300, 250)\n",
    "\n",
    "    draw_gun(gun_x, gun_y)\n",
    "    draw_zombie(zombie_x, zombie_y)\n",
    "    if bullet_fired:\n",
    "        fire_bullet(bullet_x, bullet_y)\n",
    "\n",
    "    pygame.display.update()\n",
    "pygame.quit()"
   ]
  },
  {
   "cell_type": "code",
   "execution_count": null,
   "id": "b3c508b8",
   "metadata": {},
   "outputs": [],
   "source": []
  }
 ],
 "metadata": {
  "kernelspec": {
   "display_name": "Python 3 (ipykernel)",
   "language": "python",
   "name": "python3"
  },
  "language_info": {
   "codemirror_mode": {
    "name": "ipython",
    "version": 3
   },
   "file_extension": ".py",
   "mimetype": "text/x-python",
   "name": "python",
   "nbconvert_exporter": "python",
   "pygments_lexer": "ipython3",
   "version": "3.10.9"
  }
 },
 "nbformat": 4,
 "nbformat_minor": 5
}
